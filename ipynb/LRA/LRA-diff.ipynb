{
 "cells": [
  {
   "cell_type": "code",
   "execution_count": 1,
   "metadata": {},
   "outputs": [
    {
     "name": "stdout",
     "output_type": "stream",
     "text": [
      "1.0.0\n"
     ]
    },
    {
     "data": {
      "text/plain": [
       "<torch._C.Generator at 0x7f2754693890>"
      ]
     },
     "execution_count": 1,
     "metadata": {},
     "output_type": "execute_result"
    }
   ],
   "source": [
    "import numpy as np\n",
    "\n",
    "import torch\n",
    "import torch.nn as nn\n",
    "import torch.nn.functional as F\n",
    "import torch.optim as optim\n",
    "\n",
    "print(torch.__version__)\n",
    "\n",
    "SEED=41\n",
    "\n",
    "np.random.seed(SEED)\n",
    "torch.cuda.manual_seed(SEED)\n",
    "torch.manual_seed(SEED)"
   ]
  },
  {
   "cell_type": "markdown",
   "metadata": {},
   "source": [
    "### Template for a layer"
   ]
  },
  {
   "cell_type": "code",
   "execution_count": 2,
   "metadata": {},
   "outputs": [],
   "source": [
    "class Layer:\n",
    "    def __init__(self):\n",
    "        pass\n",
    "    \n",
    "    def forward(self, input_):\n",
    "        pass\n",
    "    \n",
    "    def backward(self, input_, grad_output):\n",
    "        pass"
   ]
  },
  {
   "cell_type": "code",
   "execution_count": 3,
   "metadata": {},
   "outputs": [],
   "source": [
    "class ReLU(Layer):\n",
    "    def __init__(self):\n",
    "        pass\n",
    "    \n",
    "    def forward(self, input_):\n",
    "        output = torch.max(input_, torch.tensor([0.], device='cuda'))\n",
    "        return output"
   ]
  },
  {
   "cell_type": "code",
   "execution_count": 78,
   "metadata": {},
   "outputs": [],
   "source": [
    "class LogSoftmax(Layer):\n",
    "    def __init__(self):\n",
    "        pass\n",
    "    \n",
    "    def forward(self, input_):\n",
    "        return F.log_softmax(input_, dim=1)\n",
    "    \n",
    "class Identity(Layer):\n",
    "    def __init__(self):\n",
    "        pass\n",
    "    \n",
    "    def forward(self, x):\n",
    "        return x"
   ]
  },
  {
   "cell_type": "code",
   "execution_count": 53,
   "metadata": {},
   "outputs": [],
   "source": [
    "class Dense(Layer):\n",
    "    def __init__(self, input_units, output_units, learning_rate=0.1):\n",
    "        self.learning_rate = learning_rate\n",
    "        \n",
    "        # initialize weights with small random numbers. We use normal initialization, \n",
    "        # but surely there is something better. Try this once you got it working: http://bit.ly/2vTlmaJ\n",
    "        self.weights = torch.randn(input_units, output_units, device='cuda')*0.01\n",
    "        self.biases  = torch.ones(output_units, device='cuda')\n",
    "        \n",
    "    def forward(self, input_):    \n",
    "        self.layer_output = torch.matmul(input_, self.weights) + self.biases\n",
    "        return self.layer_output\n",
    "    \n",
    "    def forward_with_params(self, x, weights, biases):\n",
    "        return torch.matmul(x, weights) + biases\n",
    "    \n",
    "    def update(self, w_grad, b_grad):\n",
    "        self.weights = self.weights - self.learning_rate * w_grad\n",
    "        self.biases  = self.biases  - self.learning_rate * b_grad"
   ]
  },
  {
   "cell_type": "code",
   "execution_count": 6,
   "metadata": {},
   "outputs": [
    {
     "data": {
      "image/png": "[encoded data removed]",
      "text/plain": [
       "<Figure size 432x432 with 4 Axes>"
      ]
     },
     "metadata": {
      "needs_background": "light"
     },
     "output_type": "display_data"
    }
   ],
   "source": [
    "import matplotlib.pyplot as plt\n",
    "%matplotlib inline\n",
    "\n",
    "from mnist import load_dataset\n",
    "X_train, y_train, X_val, y_val, X_test, y_test = load_dataset(flatten=True)\n",
    "\n",
    "plt.figure(figsize=[6,6])\n",
    "for i in range(4):\n",
    "    plt.subplot(2,2,i+1)\n",
    "    plt.title(\"Label: %i\"%y_train[i])\n",
    "    plt.imshow(X_train[i].reshape([28,28]),cmap='gray');"
   ]
  },
  {
   "cell_type": "code",
   "execution_count": 7,
   "metadata": {},
   "outputs": [],
   "source": [
    "X_train = torch.tensor(X_train, dtype=torch.float32, device='cuda')\n",
    "X_val   = torch.tensor(X_val, dtype=torch.float32, device='cuda')\n",
    "X_test  = torch.tensor(X_test, dtype=torch.float32, device='cuda')"
   ]
  },
  {
   "cell_type": "code",
   "execution_count": 8,
   "metadata": {},
   "outputs": [],
   "source": [
    "def forward(network, X):\n",
    "    \"\"\"\n",
    "    Network is a list of layers\n",
    "    X: Raw Feature Matrix\n",
    "    \n",
    "    Run Forward pass on the features to produce\n",
    "    activations for every layer\n",
    "    \"\"\"\n",
    "    activations = []\n",
    "    input_      = X\n",
    "    \n",
    "    for layer in network:\n",
    "        input_ = layer.forward(input_)\n",
    "        activations.append(input_)\n",
    "        \n",
    "    assert len(activations) == len(network)\n",
    "    return activations\n",
    "\n",
    "def predict(network, X):\n",
    "    logits = forward(network, X)[-1]\n",
    "    return logits.cpu().detach().numpy().argmax(axis=-1)\n",
    "\n",
    "def normalize(vec, c):\n",
    "    norm = torch.norm(vec)\n",
    "    \n",
    "    if norm >= c:\n",
    "        return (c * vec) / norm\n",
    "    else:\n",
    "        return vec"
   ]
  },
  {
   "cell_type": "markdown",
   "metadata": {},
   "source": [
    "### LRA-diff"
   ]
  },
  {
   "cell_type": "markdown",
   "metadata": {},
   "source": [
    "#### Batch Creation"
   ]
  },
  {
   "cell_type": "code",
   "execution_count": 9,
   "metadata": {},
   "outputs": [],
   "source": [
    "from tqdm import trange\n",
    "def iterate_minibatches(inputs, targets, batchsize, shuffle=False):\n",
    "    assert len(inputs) == len(targets)\n",
    "    if shuffle:\n",
    "        indices = np.random.permutation(len(inputs))\n",
    "    for start_idx in trange(0, len(inputs) - batchsize + 1, batchsize):\n",
    "        if shuffle:\n",
    "            excerpt = indices[start_idx:start_idx + batchsize]\n",
    "        else:\n",
    "            excerpt = slice(start_idx, start_idx + batchsize)\n",
    "        yield inputs[excerpt], targets[excerpt]"
   ]
  },
  {
   "cell_type": "markdown",
   "metadata": {},
   "source": [
    "#### Network Definition"
   ]
  },
  {
   "cell_type": "code",
   "execution_count": 79,
   "metadata": {},
   "outputs": [],
   "source": [
    "network  = []\n",
    "\n",
    "# layer 1\n",
    "network.append(Dense(X_train.shape[1], 100))\n",
    "network.append(ReLU())\n",
    "\n",
    "# layer 2\n",
    "network.append(Dense(100, 200))\n",
    "network.append(ReLU())\n",
    "\n",
    "# layer 3\n",
    "network.append(Dense(200, 10))\n",
    "network.append(Identity())"
   ]
  },
  {
   "cell_type": "markdown",
   "metadata": {},
   "source": [
    "#### Run on a single batch"
   ]
  },
  {
   "cell_type": "code",
   "execution_count": 125,
   "metadata": {},
   "outputs": [],
   "source": [
    "def train(network, X, y):\n",
    "    # parameters\n",
    "    beta = .1\n",
    "    \n",
    "    c1   = .1\n",
    "    c2   = .1\n",
    "    K    = 1\n",
    "    \n",
    "    # forward pass to get all the activations from the network.\n",
    "    layer_outputs = forward(network, X)\n",
    "\n",
    "    # every layer is composed of affine layer followed by a activation function\n",
    "    # so that is why we are taking every other value\n",
    "    \n",
    "    # pre-activations\n",
    "    h_l         = [X] + layer_outputs[::2]\n",
    "    \n",
    "    # target for these pre-activations\n",
    "    y_l_h       = h_l.copy()\n",
    "    \n",
    "    # create a temporary copy for these pre-activations\n",
    "    h_l_hat     = h_l.copy()\n",
    "    \n",
    "    \n",
    "    # post-activations\n",
    "    z_l         = [X] + layer_outputs[1::2]\n",
    "    \n",
    "    # target for post-activations\n",
    "    y_l_z       = z_l.copy()\n",
    "    \n",
    "    # create a temporary copy for these post-activationss\n",
    "    z_l_hat     = z_l.copy()\n",
    "    \n",
    "    # add the true target to the list\n",
    "    y_l_z[-1]   = torch.tensor(y, dtype=torch.long, device='cuda')\n",
    "\n",
    "    \n",
    "    # calculate number of layers in the network\n",
    "    n_layers    = len(network) // 2\n",
    "    \n",
    "    # layer index ( start at the final layer )\n",
    "    l           = len(network)\n",
    "    \n",
    "    # start at the final layer\n",
    "    layer       = n_layers\n",
    "    \n",
    "    # list to store grads\n",
    "    W_grads     = []\n",
    "    b_grads     = []\n",
    "    \n",
    "    # losses\n",
    "    mse_loss = nn.MSELoss()\n",
    "#     nll_loss = nn.NLLLoss()\n",
    "    nll_loss = nn.CrossEntropyLoss()\n",
    "    \n",
    "    print('Before backward pass')\n",
    "    print('Layer 0th targets: ', y_l_z[0][0][:4])\n",
    "    print('Layer 1st targets: ', y_l_z[1][0][:4])\n",
    "    print('Layer 2nd targets: ', y_l_z[2][0][:4])\n",
    "    print('Layer 3rd targets: ', y_l_z[3])\n",
    "    print()\n",
    "    print('*' * 100)\n",
    "    \n",
    "    while layer > 0:\n",
    "        \n",
    "        # lth layer weights and biases\n",
    "        W_l = torch.autograd.Variable(network[l-2].weights, requires_grad=True)        \n",
    "        b_l = torch.autograd.Variable(network[l-2].biases, requires_grad=True)\n",
    "        \n",
    "        # previous layer input \n",
    "        h_prev = h_l[layer - 1] # can't do it when layer == 1, \n",
    "                                # because it is not defined\n",
    "        z_prev = network[l-3].forward(h_prev)\n",
    "        \n",
    "        # current input\n",
    "        layer_pre_act  = network[l-2].forward_with_params(z_prev, W_l, b_l)\n",
    "        layer_post_act = network[l-1].forward(layer_pre_act)\n",
    "            \n",
    "        # layer set target\n",
    "        layer_target   = y_l_z[layer]\n",
    "        \n",
    "        \n",
    "        if layer != n_layers:\n",
    "            loss = mse_loss(layer_post_act, layer_target)\n",
    "        else:\n",
    "            loss = nll_loss(layer_post_act, layer_target)\n",
    "        \n",
    "        # backward pass\n",
    "        loss.backward()\n",
    "        \n",
    "        # weight and bias gradients\n",
    "        W_l_grad = normalize(W_l.grad.data, c1)\n",
    "        b_l_grad = normalize(b_l.grad.data, c1)\n",
    "        \n",
    "        # add weight and bias grads to the list\n",
    "        W_grads.append(W_l_grad)\n",
    "        b_grads.append(b_l_grad)\n",
    "        \n",
    "        # turn off requires grad flag for both biases and weights\n",
    "        W_l.requires_grad = False\n",
    "        b_l.requires_grad = False\n",
    "        \n",
    "        # create a new temporary variable for new scope inside the loop\n",
    "        h_l_hat_tmp = h_l_hat[layer - 1]\n",
    "        \n",
    "        \n",
    "        for k in range(K):\n",
    "            h_l_hat_tmp    = torch.autograd.Variable(h_l_hat_tmp, \n",
    "                                                     requires_grad=True)\n",
    "            \n",
    "            z_l_hat_tmp    = network[l-3].forward(h_l_hat_tmp)\n",
    "            layer_pre_act  = network[l-2].forward_with_params(z_l_hat_tmp, \n",
    "                                                              W_l, \n",
    "                                                              b_l)\n",
    "            \n",
    "            layer_post_act = network[l-1].forward(layer_pre_act)\n",
    "            \n",
    "            \n",
    "            if layer != n_layers:\n",
    "                loss = mse_loss(layer_post_act, layer_target)\n",
    "            else:\n",
    "                loss = nll_loss(layer_post_act, layer_target)\n",
    "            \n",
    "            loss.backward()\n",
    "            \n",
    "            if layer == 2:\n",
    "                print('Layer post activations: {}'.format(layer_post_act[0][:5]))\n",
    "                print('Layer target: {}'.format(layer_target[0][:5]))\n",
    "                print('Loss incurred: {}'.format(loss))\n",
    "                print('H prev grad: {}'.format(torch.norm(h_l_hat_tmp.grad.data)))\n",
    "            \n",
    "            # store derivative of layer loss w.r.t prev layer's input\n",
    "            h_prev_grad      = normalize(h_l_hat_tmp.grad.data, \n",
    "                                         c2)\n",
    "            \n",
    "            h_l_hat_tmp      = h_prev - beta * h_prev_grad\n",
    "            z_l_hat[layer-1] = network[l-3].forward(h_l_hat_tmp)\n",
    "            \n",
    "            if layer == 3:\n",
    "                print('Current loss incurred: {}'.format(loss))\n",
    "                print('Current h prev grad: {}'.format(torch.norm(h_prev_grad,p=2)))\n",
    "                print('target for prev layer ( 2 )', z_l_hat[layer-1][0][:5])\n",
    "                print('h prev ', h_prev[0][:4])\n",
    "                print('after ', h_l_hat_tmp[0][:4])\n",
    "            \n",
    "            h_l_hat[layer]   = torch.matmul(z_l_hat[layer-1], W_l) + b_l\n",
    "            z_l_hat[layer]   = network[l-1].forward(h_l_hat[layer])\n",
    "        \n",
    "        y_l_z[layer-1] = z_l_hat[layer-1]\n",
    "                \n",
    "        # unit in a layer index\n",
    "        l     -= 2\n",
    "\n",
    "        # update the layer index\n",
    "        layer -= 1\n",
    "    \n",
    "    W_grads = W_grads[::-1]\n",
    "    b_grads = b_grads[::-1]\n",
    "    \n",
    "    return W_grads, b_grads"
   ]
  },
  {
   "cell_type": "code",
   "execution_count": 126,
   "metadata": {},
   "outputs": [],
   "source": [
    "network  = []\n",
    "\n",
    "# layer 1\n",
    "network.append(Dense(X_train.shape[1], 100))\n",
    "network.append(ReLU())\n",
    "\n",
    "# layer 2\n",
    "network.append(Dense(100, 200))\n",
    "network.append(ReLU())\n",
    "\n",
    "# layer 3\n",
    "network.append(Dense(200, 10))\n",
    "network.append(Identity())"
   ]
  },
  {
   "cell_type": "markdown",
   "metadata": {},
   "source": [
    "### Run on a single minibatch ( optional )"
   ]
  },
  {
   "cell_type": "code",
   "execution_count": 127,
   "metadata": {},
   "outputs": [
    {
     "name": "stderr",
     "output_type": "stream",
     "text": [
      "  0%|          | 0/25000 [00:00<?, ?it/s]"
     ]
    },
    {
     "name": "stdout",
     "output_type": "stream",
     "text": [
      "Before backward pass\n",
      "Layer 0th targets:  tensor([0., 0., 0., 0.], device='cuda:0')\n",
      "Layer 1st targets:  tensor([0.9079, 1.0721, 1.0404, 1.0960], device='cuda:0')\n",
      "Layer 2nd targets:  tensor([0.9944, 0.9408, 1.0212, 1.0755], device='cuda:0')\n",
      "Layer 3rd targets:  tensor([9, 4], device='cuda:0')\n",
      "\n",
      "****************************************************************************************************\n",
      "Current loss incurred: 2.3011250495910645\n",
      "Current h prev grad: 0.0975695550441742\n",
      "target for prev layer ( 2 ) tensor([0.9947, 0.9408, 1.0223, 1.0739, 0.8519], device='cuda:0')\n",
      "h prev  tensor([0.9944, 0.9408, 1.0212, 1.0755], device='cuda:0')\n",
      "after  tensor([0.9947, 0.9408, 1.0223, 1.0739], device='cuda:0')\n",
      "Layer post activations: tensor([0.9944, 0.9408, 1.0212, 1.0755, 0.8517], device='cuda:0',\n",
      "       grad_fn=<SliceBackward>)\n",
      "Layer target: tensor([0.9947, 0.9408, 1.0223, 1.0739, 0.8519], device='cuda:0')\n",
      "Loss incurred: 2.3799499615506647e-07\n",
      "H prev grad: 4.70350414616405e-06\n"
     ]
    },
    {
     "name": "stderr",
     "output_type": "stream",
     "text": [
      "\n"
     ]
    }
   ],
   "source": [
    "xtr, ytr       = next(iterate_minibatches(X_train, \n",
    "                                          y_train, \n",
    "                                          batchsize=2, \n",
    "                                          shuffle=True))\n",
    "W_grad, b_grad = train(network, xtr, ytr)\n",
    "\n",
    "# print(torch.norm(W_grad[0], p=2))\n",
    "# print('*' * 100)\n",
    "# print(torch.norm(W_grad[1], p=2))\n",
    "# print('*' * 100)\n",
    "# print(torch.norm(W_grad[2], p=2))\n",
    "# print('*' * 100)"
   ]
  },
  {
   "cell_type": "markdown",
   "metadata": {},
   "source": [
    "### Full Training"
   ]
  },
  {
   "cell_type": "code",
   "execution_count": 124,
   "metadata": {},
   "outputs": [
    {
     "name": "stdout",
     "output_type": "stream",
     "text": [
      "Epoch 2\n",
      "Train accuracy: 0.09976\n",
      "Val accuracy: 0.0961\n"
     ]
    },
    {
     "data": {
      "image/png": "[encoded data removed]",
      "text/plain": [
       "<Figure size 432x288 with 1 Axes>"
      ]
     },
     "metadata": {
      "needs_background": "light"
     },
     "output_type": "display_data"
    }
   ],
   "source": [
    "from IPython.display import clear_output\n",
    "\n",
    "train_log = []\n",
    "val_log   = []\n",
    "\n",
    "for epoch in range(3):\n",
    "    batch_count = 0\n",
    "        \n",
    "    for x_batch, y_batch in iterate_minibatches(X_train, \n",
    "                                                y_train, \n",
    "                                                batchsize=32, \n",
    "                                                shuffle=True):        \n",
    "\n",
    "        W_grads, b_grads = train(network, x_batch, y_batch)\n",
    "        layer            = 0\n",
    "\n",
    "\n",
    "        for l in range(0, len(network), 2):\n",
    "            network[l].update(W_grads[layer], b_grads[layer])\n",
    "            layer += 1\n",
    "\n",
    "    train_log.append(np.mean(predict(network, X_train) == y_train))\n",
    "    val_log.append(np.mean(predict(network, X_val) == y_val))\n",
    "\n",
    "    clear_output()\n",
    "    print(\"Epoch\",epoch)\n",
    "    print(\"Train accuracy:\",train_log[-1])\n",
    "    print(\"Val accuracy:\",val_log[-1])\n",
    "    plt.plot(train_log,label='train accuracy')\n",
    "    plt.plot(val_log,label='val accuracy')\n",
    "    plt.legend(loc='best')\n",
    "    plt.grid()\n",
    "    plt.show()"
   ]
  },
  {
   "cell_type": "code",
   "execution_count": null,
   "metadata": {},
   "outputs": [],
   "source": []
  },
  {
   "cell_type": "code",
   "execution_count": null,
   "metadata": {},
   "outputs": [],
   "source": []
  }
 ],
 "metadata": {
  "kernelspec": {
   "display_name": "Python 3",
   "language": "python",
   "name": "python3"
  },
  "language_info": {
   "codemirror_mode": {
    "name": "ipython",
    "version": 3
   },
   "file_extension": ".py",
   "mimetype": "text/x-python",
   "name": "python",
   "nbconvert_exporter": "python",
   "pygments_lexer": "ipython3",
   "version": "3.7.1"
  },
  "toc": {
   "colors": {
    "hover_highlight": "#DAA520",
    "navigate_num": "#000000",
    "navigate_text": "#333333",
    "running_highlight": "#FF0000",
    "selected_highlight": "#FFD700",
    "sidebar_border": "#EEEEEE",
    "wrapper_background": "#FFFFFF"
   },
   "moveMenuLeft": true,
   "nav_menu": {
    "height": "264px",
    "width": "252px"
   },
   "navigate_menu": true,
   "number_sections": true,
   "sideBar": true,
   "threshold": 4,
   "toc_cell": false,
   "toc_section_display": "block",
   "toc_window_display": false,
   "widenNotebook": false
  }
 },
 "nbformat": 4,
 "nbformat_minor": 2
}
